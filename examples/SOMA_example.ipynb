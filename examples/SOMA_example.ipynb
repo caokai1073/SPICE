{
 "cells": [
  {
   "cell_type": "markdown",
   "id": "5bd0bcb6",
   "metadata": {},
   "source": [
    "### Prepare data for SOMA"
   ]
  },
  {
   "cell_type": "code",
   "execution_count": 1,
   "id": "8c3fcb1d",
   "metadata": {},
   "outputs": [
    {
     "data": {
      "text/html": [
       "<div>\n",
       "<style scoped>\n",
       "    .dataframe tbody tr th:only-of-type {\n",
       "        vertical-align: middle;\n",
       "    }\n",
       "\n",
       "    .dataframe tbody tr th {\n",
       "        vertical-align: top;\n",
       "    }\n",
       "\n",
       "    .dataframe thead th {\n",
       "        text-align: right;\n",
       "    }\n",
       "</style>\n",
       "<table border=\"1\" class=\"dataframe\">\n",
       "  <thead>\n",
       "    <tr style=\"text-align: right;\">\n",
       "      <th></th>\n",
       "      <th>index_offset</th>\n",
       "      <th>psi</th>\n",
       "      <th>seq</th>\n",
       "    </tr>\n",
       "  </thead>\n",
       "  <tbody>\n",
       "    <tr>\n",
       "      <th>0</th>\n",
       "      <td>ENSG00000000003.15;TSPAN6;chrX-100632484-10063...</td>\n",
       "      <td>7.496831</td>\n",
       "      <td>CTTCGACACCGAGCTCGATATGATCGAAGTATTTATTACCATAAAG...</td>\n",
       "    </tr>\n",
       "    <tr>\n",
       "      <th>1</th>\n",
       "      <td>ENSG00000000003.15;TSPAN6;chrX-100633930-10063...</td>\n",
       "      <td>9.633673</td>\n",
       "      <td>GCTTCGACACCGAGCTCGTCGAGAACTTATTTGACCTGAAACCAAA...</td>\n",
       "    </tr>\n",
       "    <tr>\n",
       "      <th>2</th>\n",
       "      <td>ENSG00000000003.15;TSPAN6;chrX-100635177-10063...</td>\n",
       "      <td>1.012797</td>\n",
       "      <td>GCTTCGACACCGAGCTCGAGACGACCATTATTTTTTCTTTGACTCC...</td>\n",
       "    </tr>\n",
       "    <tr>\n",
       "      <th>3</th>\n",
       "      <td>ENSG00000000419.14;DPM1;chr20-50945736-5094576...</td>\n",
       "      <td>2.553930</td>\n",
       "      <td>TGAGATTGAATCCAGGAAATGAAGCTTCGACACCGAGCTCGTTAGC...</td>\n",
       "    </tr>\n",
       "    <tr>\n",
       "      <th>4</th>\n",
       "      <td>ENSG00000000419.14;DPM1;chr20-50948628-5094866...</td>\n",
       "      <td>-2.114327</td>\n",
       "      <td>CTTCGACACCGAGCTCGGTGCAACTATATTTCTATTAAAGTGAGTA...</td>\n",
       "    </tr>\n",
       "  </tbody>\n",
       "</table>\n",
       "</div>"
      ],
      "text/plain": [
       "                                        index_offset       psi  \\\n",
       "0  ENSG00000000003.15;TSPAN6;chrX-100632484-10063...  7.496831   \n",
       "1  ENSG00000000003.15;TSPAN6;chrX-100633930-10063...  9.633673   \n",
       "2  ENSG00000000003.15;TSPAN6;chrX-100635177-10063...  1.012797   \n",
       "3  ENSG00000000419.14;DPM1;chr20-50945736-5094576...  2.553930   \n",
       "4  ENSG00000000419.14;DPM1;chr20-50948628-5094866... -2.114327   \n",
       "\n",
       "                                                 seq  \n",
       "0  CTTCGACACCGAGCTCGATATGATCGAAGTATTTATTACCATAAAG...  \n",
       "1  GCTTCGACACCGAGCTCGTCGAGAACTTATTTGACCTGAAACCAAA...  \n",
       "2  GCTTCGACACCGAGCTCGAGACGACCATTATTTTTTCTTTGACTCC...  \n",
       "3  TGAGATTGAATCCAGGAAATGAAGCTTCGACACCGAGCTCGTTAGC...  \n",
       "4  CTTCGACACCGAGCTCGGTGCAACTATATTTCTATTAAAGTGAGTA...  "
      ]
     },
     "execution_count": 1,
     "metadata": {},
     "output_type": "execute_result"
    }
   ],
   "source": [
    "import pandas as pd\n",
    "df = pd.read_csv('SOMA_example_input.csv')\n",
    "df.head()"
   ]
  },
  {
   "cell_type": "code",
   "execution_count": 2,
   "id": "e9e19f05",
   "metadata": {},
   "outputs": [],
   "source": [
    "from sklearn.model_selection import train_test_split\n",
    "df_train, df_test = train_test_split(df, test_size=0.1, random_state=42)"
   ]
  },
  {
   "cell_type": "markdown",
   "id": "5d12f09e",
   "metadata": {},
   "source": [
    "### Train SOMA model"
   ]
  },
  {
   "cell_type": "code",
   "execution_count": null,
   "id": "d8f70c74",
   "metadata": {},
   "outputs": [
    {
     "name": "stderr",
     "output_type": "stream",
     "text": [
      "Training: 100%|██████████| 20/20 [03:17<00:00,  9.87s/epoch, train_loss=14.0551]"
     ]
    },
    {
     "name": "stdout",
     "output_type": "stream",
     "text": [
      "Training completed for seed 0. Saving model...\n"
     ]
    },
    {
     "name": "stderr",
     "output_type": "stream",
     "text": [
      "\n"
     ]
    }
   ],
   "source": [
    "from SPICE import Soma\n",
    "# This is a quick example, so we use only 20 epochs and a single random seed. \n",
    "# For real applications, use more epochs and multiple seeds. Suggest epochs>=100 and num_seeds=10.\n",
    "# If you have a GPU, training will be much faster by specifying device='cuda'.\n",
    "Soma.train(df_train, device='cuda', epochs=20, batch_size=512, learning_rate=1e-4, num_seeds=1)"
   ]
  },
  {
   "cell_type": "markdown",
   "id": "ffe3b74b",
   "metadata": {},
   "source": [
    "### Predict PSI from sequence"
   ]
  },
  {
   "cell_type": "code",
   "execution_count": 4,
   "id": "14515891",
   "metadata": {},
   "outputs": [
    {
     "name": "stderr",
     "output_type": "stream",
     "text": [
      "100%|██████████| 9/9 [00:00<00:00, 24.58it/s]"
     ]
    },
    {
     "name": "stdout",
     "output_type": "stream",
     "text": [
      "Spearman correlation: 0.6743766026113802\n"
     ]
    },
    {
     "name": "stderr",
     "output_type": "stream",
     "text": [
      "\n"
     ]
    }
   ],
   "source": [
    "from scipy.stats import spearmanr\n",
    "params_file = f'SOMA_params_seed_0.pth'\n",
    "pred_psi = Soma.predict(df_test, device='cuda', batch_size=512, params=params_file)\n",
    "df_test['pred_psi'] = pred_psi\n",
    "corr, _ = spearmanr(df_test['psi'], df_test['pred_psi'])\n",
    "print(f'Spearman correlation: {corr}')"
   ]
  }
 ],
 "metadata": {
  "kernelspec": {
   "display_name": "spice-env",
   "language": "python",
   "name": "python3"
  },
  "language_info": {
   "codemirror_mode": {
    "name": "ipython",
    "version": 3
   },
   "file_extension": ".py",
   "mimetype": "text/x-python",
   "name": "python",
   "nbconvert_exporter": "python",
   "pygments_lexer": "ipython3",
   "version": "3.9.23"
  }
 },
 "nbformat": 4,
 "nbformat_minor": 5
}
