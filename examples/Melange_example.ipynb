{
 "cells": [
  {
   "cell_type": "markdown",
   "id": "014b260f",
   "metadata": {},
   "source": [
    "## Train SOMA teachers"
   ]
  },
  {
   "cell_type": "code",
   "execution_count": null,
   "id": "cd727a14",
   "metadata": {},
   "outputs": [],
   "source": [
    "from SPICE import Soma\n",
    "from SPICE import Melange\n",
    "import torch\n",
    "import pandas as pd\n",
    "\n",
    "device = torch.device('cuda' if torch.cuda.is_available() else 'cpu')"
   ]
  },
  {
   "cell_type": "code",
   "execution_count": 2,
   "id": "8c3fcb1d",
   "metadata": {},
   "outputs": [
    {
     "data": {
      "text/html": [
       "<div>\n",
       "<style scoped>\n",
       "    .dataframe tbody tr th:only-of-type {\n",
       "        vertical-align: middle;\n",
       "    }\n",
       "\n",
       "    .dataframe tbody tr th {\n",
       "        vertical-align: top;\n",
       "    }\n",
       "\n",
       "    .dataframe thead th {\n",
       "        text-align: right;\n",
       "    }\n",
       "</style>\n",
       "<table border=\"1\" class=\"dataframe\">\n",
       "  <thead>\n",
       "    <tr style=\"text-align: right;\">\n",
       "      <th></th>\n",
       "      <th>index_offset</th>\n",
       "      <th>psi</th>\n",
       "      <th>seq</th>\n",
       "    </tr>\n",
       "  </thead>\n",
       "  <tbody>\n",
       "    <tr>\n",
       "      <th>0</th>\n",
       "      <td>ENSG00000000003.15;TSPAN6;chrX-100632484-10063...</td>\n",
       "      <td>7.496831</td>\n",
       "      <td>CTTCGACACCGAGCTCGATATGATCGAAGTATTTATTACCATAAAG...</td>\n",
       "    </tr>\n",
       "    <tr>\n",
       "      <th>1</th>\n",
       "      <td>ENSG00000000003.15;TSPAN6;chrX-100633930-10063...</td>\n",
       "      <td>9.633673</td>\n",
       "      <td>GCTTCGACACCGAGCTCGTCGAGAACTTATTTGACCTGAAACCAAA...</td>\n",
       "    </tr>\n",
       "    <tr>\n",
       "      <th>2</th>\n",
       "      <td>ENSG00000000003.15;TSPAN6;chrX-100635177-10063...</td>\n",
       "      <td>1.012797</td>\n",
       "      <td>GCTTCGACACCGAGCTCGAGACGACCATTATTTTTTCTTTGACTCC...</td>\n",
       "    </tr>\n",
       "    <tr>\n",
       "      <th>3</th>\n",
       "      <td>ENSG00000000419.14;DPM1;chr20-50945736-5094576...</td>\n",
       "      <td>2.553930</td>\n",
       "      <td>TGAGATTGAATCCAGGAAATGAAGCTTCGACACCGAGCTCGTTAGC...</td>\n",
       "    </tr>\n",
       "    <tr>\n",
       "      <th>4</th>\n",
       "      <td>ENSG00000000419.14;DPM1;chr20-50948628-5094866...</td>\n",
       "      <td>-2.114327</td>\n",
       "      <td>CTTCGACACCGAGCTCGGTGCAACTATATTTCTATTAAAGTGAGTA...</td>\n",
       "    </tr>\n",
       "  </tbody>\n",
       "</table>\n",
       "</div>"
      ],
      "text/plain": [
       "                                        index_offset       psi  \\\n",
       "0  ENSG00000000003.15;TSPAN6;chrX-100632484-10063...  7.496831   \n",
       "1  ENSG00000000003.15;TSPAN6;chrX-100633930-10063...  9.633673   \n",
       "2  ENSG00000000003.15;TSPAN6;chrX-100635177-10063...  1.012797   \n",
       "3  ENSG00000000419.14;DPM1;chr20-50945736-5094576...  2.553930   \n",
       "4  ENSG00000000419.14;DPM1;chr20-50948628-5094866... -2.114327   \n",
       "\n",
       "                                                 seq  \n",
       "0  CTTCGACACCGAGCTCGATATGATCGAAGTATTTATTACCATAAAG...  \n",
       "1  GCTTCGACACCGAGCTCGTCGAGAACTTATTTGACCTGAAACCAAA...  \n",
       "2  GCTTCGACACCGAGCTCGAGACGACCATTATTTTTTCTTTGACTCC...  \n",
       "3  TGAGATTGAATCCAGGAAATGAAGCTTCGACACCGAGCTCGTTAGC...  \n",
       "4  CTTCGACACCGAGCTCGGTGCAACTATATTTCTATTAAAGTGAGTA...  "
      ]
     },
     "execution_count": 2,
     "metadata": {},
     "output_type": "execute_result"
    }
   ],
   "source": [
    "df = pd.read_csv('Melange_example_input.csv')\n",
    "df.head()"
   ]
  },
  {
   "cell_type": "markdown",
   "id": "fb2a20f3",
   "metadata": {},
   "source": [
    "## Train SOMA teachers"
   ]
  },
  {
   "cell_type": "code",
   "execution_count": 3,
   "id": "d8f70c74",
   "metadata": {},
   "outputs": [
    {
     "name": "stderr",
     "output_type": "stream",
     "text": [
      "Training: 100%|██████████| 20/20 [03:36<00:00, 10.83s/epoch, train_loss=13.6947]\n"
     ]
    },
    {
     "name": "stdout",
     "output_type": "stream",
     "text": [
      "Training completed for seed 0. Saving model...\n"
     ]
    },
    {
     "name": "stderr",
     "output_type": "stream",
     "text": [
      "Training: 100%|██████████| 20/20 [03:36<00:00, 10.82s/epoch, train_loss=13.9914]\n"
     ]
    },
    {
     "name": "stdout",
     "output_type": "stream",
     "text": [
      "Training completed for seed 1. Saving model...\n"
     ]
    },
    {
     "name": "stderr",
     "output_type": "stream",
     "text": [
      "Training: 100%|██████████| 20/20 [03:35<00:00, 10.76s/epoch, train_loss=13.5696]\n"
     ]
    },
    {
     "name": "stdout",
     "output_type": "stream",
     "text": [
      "Training completed for seed 2. Saving model...\n"
     ]
    },
    {
     "name": "stderr",
     "output_type": "stream",
     "text": [
      "Training: 100%|██████████| 20/20 [03:37<00:00, 10.86s/epoch, train_loss=13.6409]\n"
     ]
    },
    {
     "name": "stdout",
     "output_type": "stream",
     "text": [
      "Training completed for seed 3. Saving model...\n"
     ]
    },
    {
     "name": "stderr",
     "output_type": "stream",
     "text": [
      "Training: 100%|██████████| 20/20 [03:38<00:00, 10.91s/epoch, train_loss=13.4340]"
     ]
    },
    {
     "name": "stdout",
     "output_type": "stream",
     "text": [
      "Training completed for seed 4. Saving model...\n"
     ]
    },
    {
     "name": "stderr",
     "output_type": "stream",
     "text": [
      "\n"
     ]
    }
   ],
   "source": [
    "num_teachers = 5\n",
    "Soma.train(df, device=device, epochs=20, batch_size=512, learning_rate=1e-4, num_seeds=num_teachers)"
   ]
  },
  {
   "cell_type": "markdown",
   "id": "572f74f1",
   "metadata": {},
   "source": [
    "## Train Melange Student"
   ]
  },
  {
   "cell_type": "code",
   "execution_count": 3,
   "id": "baacda09",
   "metadata": {},
   "outputs": [
    {
     "name": "stderr",
     "output_type": "stream",
     "text": [
      "Training: 100%|██████████| 1/1 [01:11<00:00, 71.44s/epoch, loss=271.4958, recon=1.1808, cls=54.0626, kl=0.4414]"
     ]
    },
    {
     "name": "stdout",
     "output_type": "stream",
     "text": [
      "Training completed.\n"
     ]
    },
    {
     "name": "stderr",
     "output_type": "stream",
     "text": [
      "\n"
     ]
    }
   ],
   "source": [
    "Melange.train(\n",
    "    df,\n",
    "    device=device,\n",
    "    max_len=250,\n",
    "    lambda_cls=5.0,\n",
    "    epochs=1,\n",
    "    clf_ids=[0,1,2,3],\n",
    "    mode='PSI0to1',\n",
    "    save_path='Melange_params.pth'\n",
    ")"
   ]
  },
  {
   "cell_type": "code",
   "execution_count": 4,
   "id": "2c493711",
   "metadata": {},
   "outputs": [
    {
     "name": "stdout",
     "output_type": "stream",
     "text": [
      "Original     : CTTCGACACCGAGCTCGATATGATCGAAGTATTTATTACCATAAAGAAAAGCACAGGCTGCTTGTGCTGTATTTAATCTTTGTTTTTTTCCTCCCATTAGGGTTGTTTTATAAAGGTGATGACCATTATAGAGTCAGAAATGGGAGTCGTTGCAGGAATTTCCTTTGGAGTTGCTTGCTTCCAAGTAAGTTTTTGTAGTTACTTAGGAAATATTTCATCCCTCTTGTAGGTGTGCAGCCATCTAAGTTTC\n",
      "Reconstructed: AAAATAAAAAAAAAGAAAAAAGAAAGAAAAAAAAATAAAAAAAAATAAATATAATATTATTAATAATTATATATAATTTTTTAGATAGAAGGAGGAGGAGGAAGAAGAAGAAGAAGAAGAAGAAGAAGAAGGAGAAGAAGAGAGAGGAGAAGAGGAGAAGAAGAGAAGAAGAAGAAGAAGAGGTGAAGGTAAGTATAGATTGGTTGTTTTTTTTTTTTAGTAATTTTTTTTTGTAAAATATTTTAATATT\n",
      "Match        : ✗✗✗✗✗✓✗✓✗✗✗✓✗✗✗✗✗✓✗✓✗✓✓✗✗✓✓✓✗✗✓✗✗✗✓✓✗✓✗✗✓✗✓✓✓✗✓✓✓✗✗✗✓✗✗✗✗✗✗✗✗✗✗✗✗✗✗✓✗✓✓✓✗✓✓✓✓✗✓✓✓✗✗✗✗✓✗✗✗✗✗✗✗✗✗✓✗✗✓✓✓✗✗✗✗✗✗✗✗✗✗✓✗✓✗✓✗✗✗✗✗✗✗✗✗✗✗✗✗✓✓✗✗✗✗✓✓✓✓✗✗✓✗✓✓✓✗✗✓✗✗✓✗✗✓✗✗✓✗✗✗✗✗✗✗✗✗✓✓✗✗✗✗✗✗✗✓✗✗✗✗✗✗✗✓✗✓✗✓✓✗✗✗✓✗✓✓✓✗✓✗✗✗✓✗✓✗✗✗✗✓✗✓✓✓✗✗✓✗✗✗✗✗✓✓✗✓✗✗✗✓✗✗✗✗✓✗✗✗✓✓✗✓✗✓✗✓✗✓✗\n"
     ]
    }
   ],
   "source": [
    "Melange.reconstruct_sequence(\n",
    "    df.iloc[0]['seq'],\n",
    "    max_len=250,\n",
    "    device=device,\n",
    "    params='Melange_params.pth'\n",
    ")"
   ]
  },
  {
   "cell_type": "code",
   "execution_count": 5,
   "id": "78b07fd1",
   "metadata": {},
   "outputs": [
    {
     "name": "stderr",
     "output_type": "stream",
     "text": [
      "100%|██████████| 500/500 [00:06<00:00, 77.61it/s]"
     ]
    },
    {
     "name": "stdout",
     "output_type": "stream",
     "text": [
      "Mean prediction of original sequences from the classifier: -0.2656\n",
      "Mean prediction of generated sequences from the classifier: 9.7886\n"
     ]
    },
    {
     "name": "stderr",
     "output_type": "stream",
     "text": [
      "\n"
     ]
    }
   ],
   "source": [
    "df_test = df[df['psi']<-3.17].sample(500, random_state=0).reset_index(drop=True)\n",
    "gen_seq_psi_pred, org_seq_psi_pred = Melange.evaluate_reconstructions(\n",
    "    df_test,\n",
    "    clf_id=4,\n",
    "    device=device,\n",
    "    max_len=250,\n",
    "    params='Melange_params.pth'\n",
    ")"
   ]
  }
 ],
 "metadata": {
  "kernelspec": {
   "display_name": "spice-env",
   "language": "python",
   "name": "python3"
  },
  "language_info": {
   "codemirror_mode": {
    "name": "ipython",
    "version": 3
   },
   "file_extension": ".py",
   "mimetype": "text/x-python",
   "name": "python",
   "nbconvert_exporter": "python",
   "pygments_lexer": "ipython3",
   "version": "3.9.23"
  }
 },
 "nbformat": 4,
 "nbformat_minor": 5
}
