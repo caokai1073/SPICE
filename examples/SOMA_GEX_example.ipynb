{
 "cells": [
  {
   "cell_type": "markdown",
   "id": "4d3bf0c8",
   "metadata": {},
   "source": [
    "### Train with GEX data"
   ]
  },
  {
   "cell_type": "code",
   "execution_count": 1,
   "id": "277216ba",
   "metadata": {},
   "outputs": [
    {
     "data": {
      "text/html": [
       "<div>\n",
       "<style scoped>\n",
       "    .dataframe tbody tr th:only-of-type {\n",
       "        vertical-align: middle;\n",
       "    }\n",
       "\n",
       "    .dataframe tbody tr th {\n",
       "        vertical-align: top;\n",
       "    }\n",
       "\n",
       "    .dataframe thead th {\n",
       "        text-align: right;\n",
       "    }\n",
       "</style>\n",
       "<table border=\"1\" class=\"dataframe\">\n",
       "  <thead>\n",
       "    <tr style=\"text-align: right;\">\n",
       "      <th></th>\n",
       "      <th>index_offset</th>\n",
       "      <th>seq</th>\n",
       "      <th>769P</th>\n",
       "      <th>786O</th>\n",
       "      <th>8MGBA</th>\n",
       "      <th>A172</th>\n",
       "      <th>A375</th>\n",
       "      <th>ACHN</th>\n",
       "      <th>CAL120</th>\n",
       "      <th>COGN278</th>\n",
       "      <th>...</th>\n",
       "      <th>SF126</th>\n",
       "      <th>SKNAS</th>\n",
       "      <th>SNU398</th>\n",
       "      <th>SNU423</th>\n",
       "      <th>SNU449</th>\n",
       "      <th>SNUC4</th>\n",
       "      <th>T47D</th>\n",
       "      <th>TOV21G</th>\n",
       "      <th>U251MG</th>\n",
       "      <th>VMRCRCZ</th>\n",
       "    </tr>\n",
       "  </thead>\n",
       "  <tbody>\n",
       "    <tr>\n",
       "      <th>0</th>\n",
       "      <td>ENSG00000000003.15;TSPAN6;chrX-100632484-10063...</td>\n",
       "      <td>CTTCGACACCGAGCTCGATATGATCGAAGTATTTATTACCATAAAG...</td>\n",
       "      <td>5.855052</td>\n",
       "      <td>6.955650</td>\n",
       "      <td>4.786596</td>\n",
       "      <td>5.066832</td>\n",
       "      <td>4.343257</td>\n",
       "      <td>5.347252</td>\n",
       "      <td>6.247928</td>\n",
       "      <td>5.172890</td>\n",
       "      <td>...</td>\n",
       "      <td>9.967226</td>\n",
       "      <td>4.703436</td>\n",
       "      <td>5.544321</td>\n",
       "      <td>3.755662</td>\n",
       "      <td>9.967226</td>\n",
       "      <td>9.967226</td>\n",
       "      <td>6.139551</td>\n",
       "      <td>9.967226</td>\n",
       "      <td>9.967226</td>\n",
       "      <td>9.967226</td>\n",
       "    </tr>\n",
       "    <tr>\n",
       "      <th>1</th>\n",
       "      <td>ENSG00000000003.15;TSPAN6;chrX-100633930-10063...</td>\n",
       "      <td>GCTTCGACACCGAGCTCGTCGAGAACTTATTTGACCTGAAACCAAA...</td>\n",
       "      <td>4.160823</td>\n",
       "      <td>9.967226</td>\n",
       "      <td>9.967226</td>\n",
       "      <td>9.967226</td>\n",
       "      <td>9.967226</td>\n",
       "      <td>9.967226</td>\n",
       "      <td>9.967226</td>\n",
       "      <td>9.967226</td>\n",
       "      <td>...</td>\n",
       "      <td>9.967226</td>\n",
       "      <td>9.967226</td>\n",
       "      <td>9.967226</td>\n",
       "      <td>9.967226</td>\n",
       "      <td>9.967226</td>\n",
       "      <td>9.967226</td>\n",
       "      <td>9.967226</td>\n",
       "      <td>9.967226</td>\n",
       "      <td>9.967226</td>\n",
       "      <td>9.967226</td>\n",
       "    </tr>\n",
       "    <tr>\n",
       "      <th>2</th>\n",
       "      <td>ENSG00000000003.15;TSPAN6;chrX-100635177-10063...</td>\n",
       "      <td>GCTTCGACACCGAGCTCGAGACGACCATTATTTTTTCTTTGACTCC...</td>\n",
       "      <td>NaN</td>\n",
       "      <td>1.069751</td>\n",
       "      <td>-0.060542</td>\n",
       "      <td>-0.147135</td>\n",
       "      <td>-0.503730</td>\n",
       "      <td>1.844684</td>\n",
       "      <td>NaN</td>\n",
       "      <td>1.994607</td>\n",
       "      <td>...</td>\n",
       "      <td>-0.095157</td>\n",
       "      <td>0.997839</td>\n",
       "      <td>1.779734</td>\n",
       "      <td>NaN</td>\n",
       "      <td>-1.286800</td>\n",
       "      <td>1.089583</td>\n",
       "      <td>-0.147135</td>\n",
       "      <td>0.678072</td>\n",
       "      <td>0.617465</td>\n",
       "      <td>0.828326</td>\n",
       "    </tr>\n",
       "    <tr>\n",
       "      <th>3</th>\n",
       "      <td>ENSG00000000419.14;DPM1;chr20-50945736-5094576...</td>\n",
       "      <td>TGAGATTGAATCCAGGAAATGAAGCTTCGACACCGAGCTCGTTAGC...</td>\n",
       "      <td>1.252026</td>\n",
       "      <td>1.712718</td>\n",
       "      <td>3.996940</td>\n",
       "      <td>2.492914</td>\n",
       "      <td>-0.233995</td>\n",
       "      <td>2.835563</td>\n",
       "      <td>1.672780</td>\n",
       "      <td>4.786596</td>\n",
       "      <td>...</td>\n",
       "      <td>2.632603</td>\n",
       "      <td>4.829909</td>\n",
       "      <td>1.633412</td>\n",
       "      <td>4.160823</td>\n",
       "      <td>2.093702</td>\n",
       "      <td>2.248800</td>\n",
       "      <td>3.801190</td>\n",
       "      <td>1.163165</td>\n",
       "      <td>0.794913</td>\n",
       "      <td>1.641242</td>\n",
       "    </tr>\n",
       "    <tr>\n",
       "      <th>4</th>\n",
       "      <td>ENSG00000000419.14;DPM1;chr20-50948628-5094866...</td>\n",
       "      <td>CTTCGACACCGAGCTCGGTGCAACTATATTTCTATTAAAGTGAGTA...</td>\n",
       "      <td>NaN</td>\n",
       "      <td>NaN</td>\n",
       "      <td>0.280483</td>\n",
       "      <td>NaN</td>\n",
       "      <td>-3.321928</td>\n",
       "      <td>-1.581126</td>\n",
       "      <td>NaN</td>\n",
       "      <td>NaN</td>\n",
       "      <td>...</td>\n",
       "      <td>NaN</td>\n",
       "      <td>-1.116179</td>\n",
       "      <td>NaN</td>\n",
       "      <td>NaN</td>\n",
       "      <td>NaN</td>\n",
       "      <td>NaN</td>\n",
       "      <td>-1.736966</td>\n",
       "      <td>-2.248800</td>\n",
       "      <td>NaN</td>\n",
       "      <td>NaN</td>\n",
       "    </tr>\n",
       "  </tbody>\n",
       "</table>\n",
       "<p>5 rows × 46 columns</p>\n",
       "</div>"
      ],
      "text/plain": [
       "                                        index_offset  \\\n",
       "0  ENSG00000000003.15;TSPAN6;chrX-100632484-10063...   \n",
       "1  ENSG00000000003.15;TSPAN6;chrX-100633930-10063...   \n",
       "2  ENSG00000000003.15;TSPAN6;chrX-100635177-10063...   \n",
       "3  ENSG00000000419.14;DPM1;chr20-50945736-5094576...   \n",
       "4  ENSG00000000419.14;DPM1;chr20-50948628-5094866...   \n",
       "\n",
       "                                                 seq      769P      786O  \\\n",
       "0  CTTCGACACCGAGCTCGATATGATCGAAGTATTTATTACCATAAAG...  5.855052  6.955650   \n",
       "1  GCTTCGACACCGAGCTCGTCGAGAACTTATTTGACCTGAAACCAAA...  4.160823  9.967226   \n",
       "2  GCTTCGACACCGAGCTCGAGACGACCATTATTTTTTCTTTGACTCC...       NaN  1.069751   \n",
       "3  TGAGATTGAATCCAGGAAATGAAGCTTCGACACCGAGCTCGTTAGC...  1.252026  1.712718   \n",
       "4  CTTCGACACCGAGCTCGGTGCAACTATATTTCTATTAAAGTGAGTA...       NaN       NaN   \n",
       "\n",
       "      8MGBA      A172      A375      ACHN    CAL120   COGN278  ...     SF126  \\\n",
       "0  4.786596  5.066832  4.343257  5.347252  6.247928  5.172890  ...  9.967226   \n",
       "1  9.967226  9.967226  9.967226  9.967226  9.967226  9.967226  ...  9.967226   \n",
       "2 -0.060542 -0.147135 -0.503730  1.844684       NaN  1.994607  ... -0.095157   \n",
       "3  3.996940  2.492914 -0.233995  2.835563  1.672780  4.786596  ...  2.632603   \n",
       "4  0.280483       NaN -3.321928 -1.581126       NaN       NaN  ...       NaN   \n",
       "\n",
       "      SKNAS    SNU398    SNU423    SNU449     SNUC4      T47D    TOV21G  \\\n",
       "0  4.703436  5.544321  3.755662  9.967226  9.967226  6.139551  9.967226   \n",
       "1  9.967226  9.967226  9.967226  9.967226  9.967226  9.967226  9.967226   \n",
       "2  0.997839  1.779734       NaN -1.286800  1.089583 -0.147135  0.678072   \n",
       "3  4.829909  1.633412  4.160823  2.093702  2.248800  3.801190  1.163165   \n",
       "4 -1.116179       NaN       NaN       NaN       NaN -1.736966 -2.248800   \n",
       "\n",
       "     U251MG   VMRCRCZ  \n",
       "0  9.967226  9.967226  \n",
       "1  9.967226  9.967226  \n",
       "2  0.617465  0.828326  \n",
       "3  0.794913  1.641242  \n",
       "4       NaN       NaN  \n",
       "\n",
       "[5 rows x 46 columns]"
      ]
     },
     "execution_count": 1,
     "metadata": {},
     "output_type": "execute_result"
    }
   ],
   "source": [
    "import pandas as pd\n",
    "import numpy as np\n",
    "from SPICE import Soma\n",
    "\n",
    "GEX_dict = np.load('GEX_dict.npy', allow_pickle=True).item()\n",
    "df = pd.read_csv('SOMA_GEX_example_input.csv')\n",
    "df.head()"
   ]
  },
  {
   "cell_type": "code",
   "execution_count": 2,
   "id": "1eac81ec",
   "metadata": {},
   "outputs": [
    {
     "data": {
      "text/plain": [
       "{'769P': array([2.82984956, 0.        , 6.35314683, ..., 0.        , 0.        ,\n",
       "        0.        ]),\n",
       " '786O': array([2.44890095, 0.        , 7.18596563, ..., 0.        , 0.02856915,\n",
       "        0.        ]),\n",
       " '8MGBA': array([4.37364821, 0.        , 6.96266469, ..., 0.07038933, 0.        ,\n",
       "        0.02856915]),\n",
       " 'A172': array([0.11103131, 0.        , 6.71383326, ..., 0.        , 0.04264434,\n",
       "        0.36737107]),\n",
       " 'A375': array([3.38543104, 0.        , 7.66341578, ..., 0.        , 0.        ,\n",
       "        0.        ]),\n",
       " 'ACHN': array([3.55213111, 0.        , 6.03584382, ..., 0.02856915, 0.02856915,\n",
       "        0.        ]),\n",
       " 'CAL120': array([4.34766566, 0.        , 6.99672769, ..., 0.        , 0.        ,\n",
       "        0.        ]),\n",
       " 'COGN278': array([5.16791987, 0.        , 6.55458885, ..., 0.        , 0.        ,\n",
       "        0.31034012]),\n",
       " 'COLO783': array([4.1268077 , 0.02856915, 6.92837032, ..., 0.        , 0.05658353,\n",
       "        0.        ]),\n",
       " 'DAOY': array([4.51032902, 0.        , 6.3554392 , ..., 0.        , 0.07038933,\n",
       "        0.05658353]),\n",
       " 'DBTRG05MG': array([4.18824266, 0.        , 7.03913839, ..., 0.        , 0.05658353,\n",
       "        0.23878686]),\n",
       " 'EFO27': array([4.4475792 , 0.02856915, 6.64356762, ..., 0.02856915, 0.02856915,\n",
       "        0.        ]),\n",
       " 'GAMG': array([3.582556  , 0.        , 6.77847143, ..., 0.        , 0.        ,\n",
       "        0.        ]),\n",
       " 'GB1': array([3.47767733, 0.        , 6.76234882, ..., 0.12432814, 0.        ,\n",
       "        0.38956681]),\n",
       " 'GI1': array([4.63110428, 0.        , 6.68594015, ..., 0.        , 0.        ,\n",
       "        0.        ]),\n",
       " 'HCC1428': array([3.54473266, 0.        , 5.98139603, ..., 0.        , 0.08406426,\n",
       "        0.        ]),\n",
       " 'HCC38': array([3.9345165 , 0.        , 6.519479  , ..., 0.21412481, 0.05658353,\n",
       "        0.33342373]),\n",
       " 'IGR37': array([3.82578563, 0.        , 6.75968849, ..., 0.13750352, 0.0976108 ,\n",
       "        0.        ]),\n",
       " 'IPC298': array([2.86195536, 0.        , 6.27668276, ..., 0.01435529, 0.01435529,\n",
       "        0.        ]),\n",
       " 'JHH6': array([3.19219417, 0.        , 6.39831616, ..., 0.        , 0.        ,\n",
       "        0.        ]),\n",
       " 'K562': array([0.05658353, 0.02856915, 6.43945692, ..., 0.        , 0.        ,\n",
       "        0.        ]),\n",
       " 'KELLY': array([3.51349075, 0.        , 5.68116812, ..., 0.        , 0.        ,\n",
       "        0.36737107]),\n",
       " 'KMRC1': array([2.69376571, 0.        , 6.87565721, ..., 0.        , 0.        ,\n",
       "        0.18903382]),\n",
       " 'KMRC20': array([2.30742853, 0.02856915, 6.26434876, ..., 0.        , 0.07038933,\n",
       "        0.        ]),\n",
       " 'KNS60': array([3.66448284, 0.        , 6.89396887, ..., 0.        , 0.07038933,\n",
       "        0.        ]),\n",
       " 'MCF7': array([2.40326772, 0.        , 7.49024921, ..., 0.        , 0.        ,\n",
       "        0.        ]),\n",
       " 'MDAMB231': array([3.57773093, 0.        , 6.33002052, ..., 0.        , 0.        ,\n",
       "        0.0976108 ]),\n",
       " 'MELHO': array([3.00539999, 0.        , 6.16671544, ..., 0.01435529, 0.01435529,\n",
       "        0.        ]),\n",
       " 'MeWo': array([3.33771109, 0.        , 6.52026508, ..., 0.        , 0.0976108 ,\n",
       "        0.05658353]),\n",
       " 'OC314': array([4.54039931, 0.        , 6.71493235, ..., 0.04264434, 0.04264434,\n",
       "        0.22650853]),\n",
       " 'OC316': array([5.14323013, 0.        , 6.95803064, ..., 0.        , 0.        ,\n",
       "        0.08406426]),\n",
       " 'OVTOKO': array([4.12515513, 0.        , 6.077243  , ..., 0.        , 0.        ,\n",
       "        0.        ]),\n",
       " 'PLCPRF5': array([3.98367769, 0.        , 6.61028666, ..., 0.        , 0.        ,\n",
       "        0.        ]),\n",
       " 'RVH421': array([4.32192809, 0.        , 7.43279242, ..., 0.        , 0.04264434,\n",
       "        0.        ]),\n",
       " 'SF126': array([0.33342373, 0.        , 6.58406053, ..., 0.        , 0.        ,\n",
       "        0.        ]),\n",
       " 'SKNAS': array([0.25096157, 0.        , 6.53434179, ..., 0.11103131, 0.        ,\n",
       "        0.        ]),\n",
       " 'SNU398': array([3.71589337, 0.        , 6.91695428, ..., 0.        , 0.02856915,\n",
       "        0.        ]),\n",
       " 'SNU423': array([4.79337571, 0.        , 6.97349648, ..., 0.01435529, 0.01435529,\n",
       "        0.        ]),\n",
       " 'SNU449': array([5.18070484, 0.        , 6.67962084, ..., 0.        , 0.        ,\n",
       "        0.20163386]),\n",
       " 'SNUC4': array([4.73335434, 1.5849625 , 6.40275628, ..., 0.        , 0.        ,\n",
       "        0.        ]),\n",
       " 'T47D': array([3.31034012, 0.        , 6.84473714, ..., 0.        , 0.        ,\n",
       "        0.        ]),\n",
       " 'TOV21G': array([4.        , 0.        , 5.80193465, ..., 0.16349873, 0.        ,\n",
       "        0.01435529]),\n",
       " 'U251MG': array([3.93640238, 0.        , 5.99095486, ..., 0.        , 0.        ,\n",
       "        0.27500705]),\n",
       " 'VMRCRCZ': array([3.03913839, 0.        , 6.35720008, ..., 0.        , 0.05658353,\n",
       "        0.        ])}"
      ]
     },
     "execution_count": 2,
     "metadata": {},
     "output_type": "execute_result"
    }
   ],
   "source": [
    "GEX_dict"
   ]
  },
  {
   "cell_type": "markdown",
   "id": "f59f9ba6",
   "metadata": {},
   "source": [
    "## Held-out sequences"
   ]
  },
  {
   "cell_type": "code",
   "execution_count": 3,
   "id": "a2b582bf",
   "metadata": {},
   "outputs": [],
   "source": [
    "# split into train and test\n",
    "df_train = df.sample(frac=0.8, random_state=42)\n",
    "df_test = df.drop(df_train.index)"
   ]
  },
  {
   "cell_type": "code",
   "execution_count": 4,
   "id": "eba1e57d",
   "metadata": {},
   "outputs": [
    {
     "name": "stderr",
     "output_type": "stream",
     "text": [
      "Epoch 1/1: 100%|██████████| 5715/5715 [11:29<00:00,  8.29batch/s, loss=9.3963] \n"
     ]
    },
    {
     "name": "stdout",
     "output_type": "stream",
     "text": [
      "Fine-tuning completed. Saving model...\n"
     ]
    }
   ],
   "source": [
    "Soma.fintune_with_gex(\n",
    "    df_train,\n",
    "    GEX_dict,\n",
    "    device='cuda',\n",
    "    pretrained_params='SOMA_params_seed_0.pth',\n",
    "    epochs=1,\n",
    "    batch_size=256,\n",
    ")"
   ]
  },
  {
   "cell_type": "code",
   "execution_count": 5,
   "id": "5df3575a",
   "metadata": {},
   "outputs": [
    {
     "name": "stderr",
     "output_type": "stream",
     "text": [
      "100%|██████████| 714/714 [01:31<00:00,  7.82it/s]\n"
     ]
    },
    {
     "name": "stdout",
     "output_type": "stream",
     "text": [
      "Spearman ρ=0.7225, p-value=0.00e+00\n"
     ]
    }
   ],
   "source": [
    "# spearman\n",
    "from scipy.stats import spearmanr\n",
    "\n",
    "\n",
    "pred_psi, org_psi = Soma.predict_with_gex(\n",
    "    df_test,\n",
    "    GEX_dict,\n",
    "    device='cuda',\n",
    "    batch_size=512,\n",
    "    pretrained_params='SOMA_params_seed_0.pth',\n",
    "    pretrained_GEX_params='SOMA_with_GEX_params.pth',\n",
    ")\n",
    "\n",
    "rho, pval = spearmanr(org_psi, pred_psi)\n",
    "print(f\"Spearman ρ={rho:.4f}, p-value={pval:.2e}\")"
   ]
  },
  {
   "cell_type": "markdown",
   "id": "f225c064",
   "metadata": {},
   "source": [
    "## Held-out cell lines"
   ]
  },
  {
   "cell_type": "code",
   "execution_count": 11,
   "id": "51a80148",
   "metadata": {},
   "outputs": [],
   "source": [
    "# split into train and test\n",
    "# sample 20% columns as held-out cell lines\n",
    "cell_lines = list(GEX_dict.keys())\n",
    "np.random.seed(42)\n",
    "held_out = np.random.choice(cell_lines, size=int(0.2*len(cell_lines)), replace=False).tolist()\n",
    "held_in = [c for c in cell_lines if c not in held_out]\n",
    "held_in = ['seq'] + held_in\n",
    "held_out = ['seq'] + held_out\n",
    "df_train = df[held_in]\n",
    "df_test = df[held_out]"
   ]
  },
  {
   "cell_type": "code",
   "execution_count": 13,
   "id": "3f811eef",
   "metadata": {},
   "outputs": [
    {
     "name": "stderr",
     "output_type": "stream",
     "text": [
      "Epoch 1/1: 100%|██████████| 5853/5853 [11:43<00:00,  8.32batch/s, loss=11.7186]\n"
     ]
    },
    {
     "name": "stdout",
     "output_type": "stream",
     "text": [
      "Fine-tuning completed. Saving model...\n"
     ]
    }
   ],
   "source": [
    "Soma.fintune_with_gex(\n",
    "    df_train,\n",
    "    GEX_dict,\n",
    "    device='cuda',\n",
    "    pretrained_params='SOMA_params_seed_0.pth',\n",
    "    epochs=1,\n",
    "    batch_size=256,\n",
    ")"
   ]
  },
  {
   "cell_type": "code",
   "execution_count": 14,
   "id": "98056f8f",
   "metadata": {},
   "outputs": [
    {
     "name": "stderr",
     "output_type": "stream",
     "text": [
      "100%|██████████| 645/645 [01:24<00:00,  7.66it/s]\n"
     ]
    },
    {
     "name": "stdout",
     "output_type": "stream",
     "text": [
      "Spearman ρ=0.7598, p-value=0.00e+00\n"
     ]
    }
   ],
   "source": [
    "# spearman\n",
    "from scipy.stats import spearmanr\n",
    "\n",
    "pred_psi, org_psi = Soma.predict_with_gex(\n",
    "    df_test,\n",
    "    GEX_dict,\n",
    "    device='cuda',\n",
    "    batch_size=512,\n",
    "    pretrained_params='SOMA_params_seed_0.pth',\n",
    "    pretrained_GEX_params='SOMA_with_GEX_params.pth',\n",
    ")\n",
    "\n",
    "rho, pval = spearmanr(org_psi, pred_psi)\n",
    "print(f\"Spearman ρ={rho:.4f}, p-value={pval:.2e}\")"
   ]
  }
 ],
 "metadata": {
  "kernelspec": {
   "display_name": "spice-env",
   "language": "python",
   "name": "python3"
  },
  "language_info": {
   "codemirror_mode": {
    "name": "ipython",
    "version": 3
   },
   "file_extension": ".py",
   "mimetype": "text/x-python",
   "name": "python",
   "nbconvert_exporter": "python",
   "pygments_lexer": "ipython3",
   "version": "3.9.23"
  }
 },
 "nbformat": 4,
 "nbformat_minor": 5
}
